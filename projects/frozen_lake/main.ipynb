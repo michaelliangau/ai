{
 "cells": [
  {
   "cell_type": "code",
   "execution_count": 1,
   "metadata": {},
   "outputs": [],
   "source": [
    "import numpy as np"
   ]
  },
  {
   "cell_type": "code",
   "execution_count": 7,
   "metadata": {},
   "outputs": [
    {
     "name": "stdout",
     "output_type": "stream",
     "text": [
      "[['S' 'F' 'H' 'F']\n",
      " ['F' 'F' 'F' 'H']\n",
      " ['F' 'F' 'F' 'F']\n",
      " ['F' 'H' 'H' 'G']]\n"
     ]
    }
   ],
   "source": [
    "# Step 1: Define the action and state space of the environment\n",
    "class FrozenLake:\n",
    "    def __init__(self, grid_size=4):\n",
    "        self.grid_size = grid_size\n",
    "        self.state_space = np.arange(grid_size * grid_size)\n",
    "        self.action_space = np.arange(4) # 0: left, 1: down, 2: right, 3: up\n",
    "\n",
    "    # Step 2: Initialize/reset the env\n",
    "    def reset(self):\n",
    "        \"\"\"Reset the environment to the initial state\n",
    "        \n",
    "        (0,0) is a start block, (-1,-1) is a goal block, and all others are frozen blocks \n",
    "        with holes scattered randomly.\n",
    "\n",
    "        States are represented as an integer because it is simpler. (0,0) is implicitly\n",
    "        mapped to 0, (0,1) mapped to 1, etc.\n",
    "\n",
    "        F: frozen block\n",
    "        S: start block\n",
    "        G: goal block\n",
    "        H: hole block\n",
    "        \"\"\"\n",
    "        self.state = 0\n",
    "        self.grid = np.full((self.grid_size, self.grid_size), 'F') # Fill the grid with frozen blocks\n",
    "        self.grid[0, 0] = 'S' # Place the start block\n",
    "        self.grid[-1, -1] = 'G' # Place the goal block\n",
    "\n",
    "        # Place the hole blocks randomly\n",
    "        for _ in range(self.grid_size):\n",
    "            i, j = np.random.randint(self.grid_size, size=2)\n",
    "            if self.grid[i, j] == 'F':\n",
    "                self.grid[i, j] = 'H'\n",
    "\n",
    "    # Step 3: Take an action and return the next state and reward\n",
    "    def step(self, action):\n",
    "        \"\"\"Take an action and return the next state and reward\n",
    "\n",
    "        Args:\n",
    "            action (int): action to take\n",
    "\n",
    "        Returns:\n",
    "            state (int): next state\n",
    "            reward (int): reward\n",
    "        \"\"\"\n",
    "        i, j = self.state // self.grid_size, self.state % self.grid_size\n",
    "        if action == 0: # left\n",
    "            j = max(j - 1, 0)\n",
    "        elif action == 1: # down\n",
    "            i = min(i + 1, self.grid_size - 1)\n",
    "        elif action == 2: # right\n",
    "            j = min(j + 1, self.grid_size - 1)\n",
    "        elif action == 3: # up\n",
    "            i = max(i - 1, 0)\n",
    "        \n",
    "        reward = self._get_reward()\n",
    "\n",
    "        return self.state, reward\n",
    "\n",
    "def _get_reward(self):\n",
    "    \"\"\"Return the reward based on the current state.\n",
    "    \n",
    "    Returns:\n",
    "        reward (int): -1 for falling into a hole, 1 for reaching the goal, and 0 otherwise\n",
    "    \"\"\"\n",
    "    i, j = self.state // self.grid_size, self.state % self.grid_size\n",
    "\n",
    "    if self.grid[i, j] == 'H':  # If the agent falls into a hole\n",
    "        return -1\n",
    "    elif self.grid[i, j] == 'G':  # If the agent reaches the goal\n",
    "        return 1\n",
    "    else:  # If the agent is on a frozen block\n",
    "        return 0\n",
    "\n",
    "# TODO: Define the agent and the training loop, just using GPT-4 to build out a custom tutorial\n",
    "\n",
    "env = FrozenLake()\n",
    "env.reset()\n",
    "print(env.grid)"
   ]
  },
  {
   "cell_type": "code",
   "execution_count": null,
   "metadata": {},
   "outputs": [],
   "source": []
  }
 ],
 "metadata": {
  "kernelspec": {
   "display_name": "venv",
   "language": "python",
   "name": "python3"
  },
  "language_info": {
   "codemirror_mode": {
    "name": "ipython",
    "version": 3
   },
   "file_extension": ".py",
   "mimetype": "text/x-python",
   "name": "python",
   "nbconvert_exporter": "python",
   "pygments_lexer": "ipython3",
   "version": "3.8.16"
  },
  "orig_nbformat": 4
 },
 "nbformat": 4,
 "nbformat_minor": 2
}
